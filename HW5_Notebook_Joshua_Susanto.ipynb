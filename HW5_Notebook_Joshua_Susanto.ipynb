{
 "cells": [
  {
   "cell_type": "markdown",
   "metadata": {},
   "source": [
    "# Stats 21 - HW 5"
   ]
  },
  {
   "cell_type": "markdown",
   "metadata": {},
   "source": [
    "Homework copyright Miles Chen. Problems have been adapted from the exercises in Think Python 2nd Ed by Allen B. Downey.\n",
    "\n",
    "The questions have been entered into this document. You will modify the document by entering your code.\n",
    "\n",
    "Make sure you run the cell so the requested output is visible. Download the finished document as a PDF.\n",
    "\n",
    "You will submit:\n",
    "\n",
    "- the rendered PDF file to Gradescope\n",
    "- this ipynb file with your answers to CCLE\n"
   ]
  },
  {
   "cell_type": "markdown",
   "metadata": {},
   "source": [
    "## Reading\n",
    "\n",
    "- Chapters 15 to 18\n",
    "\n",
    "Please do the reading. The chapters are short."
   ]
  },
  {
   "cell_type": "markdown",
   "metadata": {},
   "source": [
    "### Exercise 15.1\n",
    "\n",
    "Write a definition for a class named Circle with attributes center and radius, where center is a Point object and radius is a number.\n",
    "\n",
    "Instantiate a Circle object that represents a circle with its center at (150, 100) and radius 75.\n",
    "\n",
    "Write a function named `point_in_circle` that takes a Circle and a Point and returns True if the Point lies in or on the boundary of the circle.\n",
    "\n",
    "Write a function named `rect_in_circle` that takes a Circle and a Rectangle and returns True if the Rectangle lies entirely in or on the boundary of the circle.\n",
    "\n",
    "Write a function named `rect_circle_overlap` that takes a Circle and a Rectangle and returns True if any of the corners of the Rectangle fall inside the circle.\n",
    "\n"
   ]
  },
  {
   "cell_type": "code",
   "execution_count": 1,
   "metadata": {},
   "outputs": [],
   "source": [
    "# no need to modify this code\n",
    "class Point:\n",
    "    \"\"\"Represents a point in 2-D space.\n",
    "    attributes: x, y\n",
    "    \"\"\"\n",
    "    \n",
    "def print_point(p):\n",
    "    print('(%g, %g)' % (p.x, p.y))\n",
    "\n",
    "\n",
    "class Rectangle:\n",
    "    \"\"\"Represents a rectangle. \n",
    "    attributes: width, height, corner.\n",
    "    \"\"\""
   ]
  },
  {
   "cell_type": "code",
   "execution_count": 2,
   "metadata": {},
   "outputs": [],
   "source": [
    "class Circle:\n",
    "    \"\"\"represents a circle\n",
    "    attributes: center, radius\"\"\"\n",
    "\n",
    "def point_in_circle(pt,circ):\n",
    "    distance = ((pt.x - circ.center.x)**2 + (pt.y - circ.center.y)**2)**0.5\n",
    "    if distance <= circ.radius:\n",
    "        return True\n",
    "    else:\n",
    "        return False\n",
    "\n",
    "\n",
    "def rect_in_circle(rect,circ):\n",
    "    dist1 = ((rect.corner.x - circ.center.x)**2 + (rect.corner.y - circ.center.y)**2)**0.5\n",
    "    dist2 = ((rect.corner.x + rect.width - circ.center.x)**2 + (rect.corner.y - circ.center.y)**2)**0.5\n",
    "    dist3 = ((rect.corner.x - circ.center.x)**2 + (rect.corner.y + rect.height - circ.center.y)**2)**0.5\n",
    "    dist4 =  ((rect.corner.x + rect.width - circ.center.x)**2 + (rect.corner.y + rect.height - circ.center.y)**2)**0.5\n",
    "    if (dist1 and dist2 and dist3 and dist4) <= circ.radius:\n",
    "        return True\n",
    "    else:\n",
    "        return False\n",
    "    \n",
    "    \n",
    "\n",
    "def rect_circle_overlap(rect,circ):\n",
    "    point2 = Point()\n",
    "    point3 = Point()\n",
    "    point4 = Point()\n",
    "    point2.x = rect.corner.x + rect.width\n",
    "    point2.y = rect.corner.y\n",
    "    point3.x = rect.corner.x\n",
    "    point3.y = rect.corner.y + rect.height\n",
    "    point4.x = rect.corner.x + rect.width\n",
    "    point4.y = rect.corner.y + rect.height\n",
    "    if point_in_circle(rect.corner, circ):\n",
    "        return True\n",
    "    if point_in_circle(point2, circ):\n",
    "        return True\n",
    "    if point_in_circle(point3, circ):\n",
    "        return True\n",
    "    if point_in_circle(point4, circ):\n",
    "        return True\n",
    "    else:\n",
    "        return False"
   ]
  },
  {
   "cell_type": "code",
   "execution_count": 3,
   "metadata": {},
   "outputs": [],
   "source": [
    "#Instantiate a Circle object that represents a circle with its center at (150, 100) and radius 75.\n",
    "\n",
    "ball = Circle()\n",
    "ball.radius = 75\n",
    "ball.center = Point()\n",
    "ball.center.x = 150\n",
    "ball.center.y = 100"
   ]
  },
  {
   "cell_type": "markdown",
   "metadata": {},
   "source": [
    "Create a test case.\n",
    "\n",
    "Create a Rectangle called box. It has a width of 100 and a height of 200. It's corner is the Point (50, 50).\n",
    "\n",
    "Print out the vars of box.\n",
    "\n",
    "Create a Circle. The center is located at the Ponit (150, 100). It has a radius of 75.\n",
    "\n",
    "+ Run the function to test if `box.corner` is in the `circle`.\n",
    "+ Run the function to test if `box` is in the `circle`.\n",
    "+ Run the function to test if `box` and `circle` overlap."
   ]
  },
  {
   "cell_type": "code",
   "execution_count": 4,
   "metadata": {},
   "outputs": [],
   "source": [
    "# your code\n",
    "box = Rectangle()\n",
    "box.width = 100\n",
    "box.height = 200\n",
    "box.corner = Point()\n",
    "box.corner.x = 50\n",
    "box.corner.y = 50\n",
    "\n",
    "circle = Circle()\n",
    "circle.center = Point()\n",
    "circle.center.x = 150\n",
    "circle.center.y = 100\n",
    "circle.radius = 75"
   ]
  },
  {
   "cell_type": "code",
   "execution_count": 5,
   "metadata": {},
   "outputs": [
    {
     "name": "stdout",
     "output_type": "stream",
     "text": [
      "False\n",
      "False\n",
      "True\n"
     ]
    }
   ],
   "source": [
    "print(point_in_circle(box.corner, circle))\n",
    "print(rect_in_circle(box, circle))\n",
    "print(rect_circle_overlap(box, circle))"
   ]
  },
  {
   "cell_type": "markdown",
   "metadata": {},
   "source": [
    "### Exercise 16.1\n",
    "\n",
    "Write a function called `mul_time` (multiply time) that takes a Time object and a number and returns a new Time object that contains the product of the original Time and the number."
   ]
  },
  {
   "cell_type": "code",
   "execution_count": 6,
   "metadata": {},
   "outputs": [],
   "source": [
    "# code that defines Time class and some functions needed for 16.1\n",
    "# no need to modify\n",
    "class Time:\n",
    "    \"\"\"Represents the time of day.\n",
    "       \n",
    "    attributes: hour, minute, second\n",
    "    \"\"\"\n",
    "def print_time(t):\n",
    "    \"\"\"Prints a string representation of the time.\n",
    "\n",
    "    t: Time object\n",
    "    \"\"\"\n",
    "    print('%.2d:%.2d:%.2d' % (t.hour, t.minute, t.second))\n",
    "    \n",
    "def int_to_time(seconds):\n",
    "    \"\"\"Makes a new Time object.\n",
    "\n",
    "    seconds: int seconds since midnight.\n",
    "    \"\"\"\n",
    "    time = Time()\n",
    "    minutes, time.second = divmod(seconds, 60)\n",
    "    time.hour, time.minute = divmod(minutes, 60)\n",
    "    return time\n",
    "def time_to_int(time):\n",
    "    \"\"\"Computes the number of seconds since midnight.\n",
    "\n",
    "    time: Time object.\n",
    "    \"\"\"\n",
    "    minutes = time.hour * 60 + time.minute\n",
    "    seconds = minutes * 60 + time.second\n",
    "    return seconds"
   ]
  },
  {
   "cell_type": "code",
   "execution_count": 7,
   "metadata": {},
   "outputs": [],
   "source": [
    "# write your function here\n",
    "def mul_time(time,multiple):\n",
    "    totalSec = time_to_int(time)\n",
    "    total = totalSec * multiple\n",
    "    newTime = int_to_time(total)\n",
    "    print_time(newTime)"
   ]
  },
  {
   "cell_type": "markdown",
   "metadata": {},
   "source": [
    "The following test case takes a race time and tries to calculate the running pace."
   ]
  },
  {
   "cell_type": "code",
   "execution_count": 8,
   "metadata": {},
   "outputs": [
    {
     "name": "stdout",
     "output_type": "stream",
     "text": [
      "Half marathon time 01:34:05\n",
      "00:07:10\n"
     ]
    }
   ],
   "source": [
    "# test case:\n",
    "race_time = Time()\n",
    "race_time.hour = 1\n",
    "race_time.minute = 34\n",
    "race_time.second = 5\n",
    "\n",
    "print('Half marathon time', end=' ')\n",
    "print_time(race_time)\n",
    "\n",
    "distance = 13.1 # miles\n",
    "pace = mul_time(race_time, 1/distance)"
   ]
  },
  {
   "cell_type": "markdown",
   "metadata": {},
   "source": [
    "## Exercise 16.2.\n",
    "\n",
    "The `datetime` module provides time objects that are similar to the Time objects in this chapter, but they provide a rich set of methods and operators. Read the documentation at\n",
    "\n",
    "https://docs.python.org/3/library/datetime.html\n",
    "\n",
    "1. Use the datetime module and write a few lines that gets the current date and prints the day of the week."
   ]
  },
  {
   "cell_type": "code",
   "execution_count": 9,
   "metadata": {},
   "outputs": [],
   "source": [
    "import datetime"
   ]
  },
  {
   "cell_type": "code",
   "execution_count": 10,
   "metadata": {},
   "outputs": [
    {
     "name": "stdout",
     "output_type": "stream",
     "text": [
      "2021-05-19\n"
     ]
    }
   ],
   "source": [
    "# example usage\n",
    "new_date = datetime.date(2021, 5, 19)\n",
    "print(new_date)"
   ]
  },
  {
   "cell_type": "code",
   "execution_count": 11,
   "metadata": {},
   "outputs": [
    {
     "data": {
      "text/plain": [
       "'Friday'"
      ]
     },
     "execution_count": 11,
     "metadata": {},
     "output_type": "execute_result"
    }
   ],
   "source": [
    "date = datetime.date.today()\n",
    "date.strftime(format = \"%A\")"
   ]
  },
  {
   "cell_type": "markdown",
   "metadata": {},
   "source": [
    "2. Write a function that takes a birthday as input and prints the user's age and the number of days, hours, minutes and seconds until their next birthday (the day starts at midnight)."
   ]
  },
  {
   "cell_type": "code",
   "execution_count": 12,
   "metadata": {},
   "outputs": [],
   "source": [
    "def age_time(date):\n",
    "    d = datetime.datetime.strptime(date,\"%m/%d/%Y\") #converts string to datetime object\n",
    "    today = datetime.datetime.today() #returns datetime object\n",
    "    delta = today - d #returns timedelta object (has attributes: days, seconds, microseconds)\n",
    "    print('This person is',delta.days//365,'years old,')\n",
    "    \n",
    "    next_bday = d.replace(year = today.year) #No need for another .datetime as it is already a datetime.datetime object. Instance function (doesnt change original)\n",
    "    delta2 = next_bday - today\n",
    "    minute, sec = divmod(delta2.seconds,60)\n",
    "    hour,minutes = divmod(minute,60)\n",
    "    print('Their next bday is in',delta2.days,'days',hour, 'hours',minutes, 'minutes and',sec, 'seconds')"
   ]
  },
  {
   "cell_type": "code",
   "execution_count": 13,
   "metadata": {},
   "outputs": [],
   "source": [
    "birthdate = \"12/25/1999\" # month/day/year"
   ]
  },
  {
   "cell_type": "code",
   "execution_count": 14,
   "metadata": {},
   "outputs": [
    {
     "name": "stdout",
     "output_type": "stream",
     "text": [
      "This person is 22 years old,\n",
      "Their next bday is in 288 days 6 hours 59 minutes and 12 seconds\n"
     ]
    }
   ],
   "source": [
    "# print time until birthday\n",
    "age_time(birthdate)"
   ]
  },
  {
   "cell_type": "code",
   "execution_count": 15,
   "metadata": {},
   "outputs": [],
   "source": [
    "birthdate2 = \"3/26/1972\""
   ]
  },
  {
   "cell_type": "code",
   "execution_count": 16,
   "metadata": {},
   "outputs": [
    {
     "name": "stdout",
     "output_type": "stream",
     "text": [
      "This person is 49 years old,\n",
      "Their next bday is in 14 days 6 hours 59 minutes and 12 seconds\n"
     ]
    }
   ],
   "source": [
    "# print time until birthday\n",
    "age_time(birthdate2)"
   ]
  },
  {
   "cell_type": "markdown",
   "metadata": {},
   "source": [
    "3. For two people born on different days, there is a day when one is exactly twice as old as the other. That's their Double Day. Write a function that takes two birth dates and computes their Double Day. The function should also print the age of person1 in years, months, days as well as the age of person 2 in years, months, days."
   ]
  },
  {
   "cell_type": "code",
   "execution_count": 17,
   "metadata": {},
   "outputs": [],
   "source": [
    "person1 = \"4/15/1970\"\n",
    "person2 = \"12/25/1999\""
   ]
  },
  {
   "cell_type": "code",
   "execution_count": 18,
   "metadata": {},
   "outputs": [],
   "source": [
    "def double_day(day1, day2):\n",
    "    d1 = datetime.datetime.strptime(day1,\"%m/%d/%Y\") #younger\n",
    "    d2 = datetime.datetime.strptime(day2,\"%m/%d/%Y\") #older\n",
    "    \n",
    "    start_age1 = int((-(d1 - d2)).days)\n",
    "    start_age2 = 0\n",
    "    \n",
    "    while start_age2 * 2 != start_age1:\n",
    "        start_age2 += 1\n",
    "        start_age1 += 1\n",
    "    \n",
    "    dday = d2 + datetime.timedelta(days=start_age2)\n",
    "    \n",
    "    p1month, p1day = divmod(start_age1, 30)\n",
    "    p1years, p1months = divmod(p1month, 12)\n",
    "    p2month, p2day = divmod(start_age2, 30)\n",
    "    p2years, p2months = divmod(p2month, 12)\n",
    "    \n",
    "    print('Their double day is', dday, 'person 1 is', p1years,'years', p1months,'months and',p1day,'days', 'and person 2 is', p2years, 'years',p2months,'months and',p2day,'days.')"
   ]
  },
  {
   "cell_type": "code",
   "execution_count": 19,
   "metadata": {},
   "outputs": [
    {
     "name": "stdout",
     "output_type": "stream",
     "text": [
      "Their double day is 2029-09-04 00:00:00 person 1 is 60 years 3 months and 2 days and person 2 is 30 years 1 months and 16 days.\n"
     ]
    }
   ],
   "source": [
    "double_day(person1, person2)"
   ]
  },
  {
   "cell_type": "code",
   "execution_count": 20,
   "metadata": {},
   "outputs": [
    {
     "name": "stdout",
     "output_type": "stream",
     "text": [
      "Their double day is 1997-11-16 00:00:00 person 1 is 26 years 0 months and 6 days and person 2 is 13 years 0 months and 3 days.\n"
     ]
    }
   ],
   "source": [
    "# test case\n",
    "person1 = \"3/26/1972\"\n",
    "person2 = \"1/20/1985\"\n",
    "double_day(person1, person2)"
   ]
  },
  {
   "cell_type": "code",
   "execution_count": 21,
   "metadata": {},
   "outputs": [
    {
     "name": "stdout",
     "output_type": "stream",
     "text": [
      "Their double day is 2018-08-04 00:00:00 person 1 is 16 years 11 months and 22 days and person 2 is 8 years 5 months and 26 days.\n"
     ]
    }
   ],
   "source": [
    "# test case\n",
    "person1 = \"11/9/2001\"\n",
    "person2 = \"3/23/2010\"\n",
    "double_day(person1, person2)"
   ]
  },
  {
   "cell_type": "markdown",
   "metadata": {},
   "source": [
    "## Exercise 17.1.\n",
    "\n",
    "I have included the code from chapter 17.\n",
    "\n",
    "Change the attributes of the `Time` class to be a single integer representing seconds since midnight. Then modify the methods (and the function int_to_time) to work with the new implementation.\n",
    "\n",
    "You should not have to modify the test code in the function `main()`. When you are done, the output should be the same as before."
   ]
  },
  {
   "cell_type": "code",
   "execution_count": 22,
   "metadata": {},
   "outputs": [],
   "source": [
    "# Leave this code unchanged\n",
    "class Time:\n",
    "    def __init__(self, hour=0, minute=0, second=0):\n",
    "        self.hour = hour\n",
    "        self.minute = minute\n",
    "        self.second = second\n",
    "\n",
    "    def __str__(self):\n",
    "        return '%.2d:%.2d:%.2d' % (self.hour, self.minute, self.second)\n",
    "\n",
    "    def print_time(self):\n",
    "        print(str(self))\n",
    "\n",
    "    def time_to_int(self):\n",
    "        minutes = self.hour * 60 + self.minute\n",
    "        seconds = minutes * 60 + self.second\n",
    "        return seconds\n",
    "\n",
    "    def is_after(self, other):\n",
    "        return self.time_to_int() > other.time_to_int()\n",
    "\n",
    "    def __add__(self, other):\n",
    "        if isinstance(other, Time):\n",
    "            return self.add_time(other)\n",
    "        else:\n",
    "            return self.increment(other)\n",
    "\n",
    "    def __radd__(self, other):\n",
    "        return self.__add__(other)\n",
    "\n",
    "    def add_time(self, other):\n",
    "        assert self.is_valid() and other.is_valid()\n",
    "        seconds = self.time_to_int() + other.time_to_int()\n",
    "        return int_to_time(seconds)\n",
    "\n",
    "    def increment(self, seconds):\n",
    "        seconds += self.time_to_int()\n",
    "        return int_to_time(seconds)\n",
    "\n",
    "    def is_valid(self):\n",
    "        if self.hour < 0 or self.minute < 0 or self.second < 0:\n",
    "            return False\n",
    "        if self.minute >= 60 or self.second >= 60:\n",
    "            return False\n",
    "        return True\n",
    "\n",
    "\n",
    "def int_to_time(seconds):\n",
    "    minutes, second = divmod(seconds, 60)\n",
    "    hour, minute = divmod(minutes, 60)\n",
    "    time = Time(hour, minute, second)\n",
    "    return time\n",
    "\n",
    "\n",
    "def main():\n",
    "    start = Time(9, 45, 00)\n",
    "    start.print_time()\n",
    "\n",
    "    end = start.increment(1337)\n",
    "    #end = start.increment(1337, 460)\n",
    "    end.print_time()\n",
    "\n",
    "    print('Is end after start?')\n",
    "    print(end.is_after(start))\n",
    "\n",
    "    print('Using __str__')\n",
    "    print(start, end)\n",
    "\n",
    "    start = Time(9, 45)\n",
    "    duration = Time(1, 35)\n",
    "    print(start + duration)\n",
    "    print(start + 1337)\n",
    "    print(1337 + start)\n",
    "\n",
    "    print('Example of polymorphism')\n",
    "    t1 = Time(7, 43)\n",
    "    t2 = Time(7, 41)\n",
    "    t3 = Time(7, 37)\n",
    "    total = sum([t1, t2, t3])\n",
    "    print(total)"
   ]
  },
  {
   "cell_type": "code",
   "execution_count": 23,
   "metadata": {},
   "outputs": [
    {
     "name": "stdout",
     "output_type": "stream",
     "text": [
      "09:45:00\n",
      "10:07:17\n",
      "Is end after start?\n",
      "True\n",
      "Using __str__\n",
      "09:45:00 10:07:17\n",
      "11:20:00\n",
      "10:07:17\n",
      "10:07:17\n",
      "Example of polymorphism\n",
      "23:01:00\n"
     ]
    }
   ],
   "source": [
    "# results of a few time tests. your later results should match these\n",
    "main()"
   ]
  },
  {
   "cell_type": "code",
   "execution_count": 24,
   "metadata": {},
   "outputs": [],
   "source": [
    "# modify this class\n",
    "# you can only have one attribute: self.second\n",
    "# the time is still initialized with hour, minute, second\n",
    "    \n",
    "class Time:\n",
    "    def __init__(self, hour=0, minute=0, second=0):\n",
    "        self.second = second + (minute*60) + (hour*3600)\n",
    "\n",
    "    def __str__(self):\n",
    "        minute, seconds = divmod(self.second,60)\n",
    "        hour,minutes = divmod(minute,60)\n",
    "        return '%.2d:%.2d:%.2d' % (hour,minutes,seconds)\n",
    "\n",
    "    def print_time(self):\n",
    "        print(str(self))\n",
    "\n",
    "    def time_to_int(self):\n",
    "        seconds = self.second\n",
    "        return seconds\n",
    "\n",
    "    def is_after(self, other):\n",
    "        return self.time_to_int() > other.time_to_int()\n",
    "\n",
    "    def __add__(self, other):\n",
    "        if isinstance(other, Time):\n",
    "            return self.add_time(other)\n",
    "        else:\n",
    "            return self.increment(other)\n",
    "\n",
    "    def __radd__(self, other):\n",
    "        return self.__add__(other)\n",
    "\n",
    "    def add_time(self, other):\n",
    "        assert self.is_valid() and other.is_valid()\n",
    "        seconds = self.time_to_int() + other.time_to_int()\n",
    "        return int_to_time(seconds)\n",
    "\n",
    "    def increment(self, seconds):\n",
    "        seconds += self.time_to_int()\n",
    "        return int_to_time(seconds)\n",
    "    \n",
    "    def is_valid(self):\n",
    "        minute, seconds = divmod(self.second,60)\n",
    "        hour,minutes = divmod(minute,60)\n",
    "        if hour < 0 or minute < 0 or seconds < 0:\n",
    "            return False\n",
    "        if minutes >= 60 or seconds >= 60:\n",
    "            return False\n",
    "        return True\n",
    "    \n",
    "    \n",
    "def int_to_time(seconds):\n",
    "    minutes, second = divmod(seconds, 60)\n",
    "    hour, minute = divmod(minutes, 60)\n",
    "    time = Time(hour, minute, second)\n",
    "    return time\n",
    "\n"
   ]
  },
  {
   "cell_type": "code",
   "execution_count": 25,
   "metadata": {},
   "outputs": [
    {
     "name": "stdout",
     "output_type": "stream",
     "text": [
      "09:45:00\n",
      "10:07:17\n",
      "Is end after start?\n",
      "True\n",
      "Using __str__\n",
      "09:45:00 10:07:17\n",
      "11:20:00\n",
      "10:07:17\n",
      "10:07:17\n",
      "Example of polymorphism\n",
      "23:01:00\n"
     ]
    }
   ],
   "source": [
    "main()"
   ]
  },
  {
   "cell_type": "markdown",
   "metadata": {},
   "source": [
    "## Exercise 17.2\n",
    "\n",
    "This exercise is a cautionary tale about one of the most common and difﬁcult to find errors in Python.\n",
    "\n",
    "We create a definition for a class named Kangaroo with the following methods:\n",
    "\n",
    "1. An __init__ method that initializes an attribute named pouch_contents to an empty list.\n",
    "2. A method named `put_in_pouch` that takes an object of any type and adds it to pouch_contents.\n",
    "3. A __str__ method that returns a string representation of the Kangaroo object and the contents of the pouch.\n",
    "\n",
    "Test your code by creating two Kangaroo objects, assigning them to variables named kanga and roo, and then adding roo to the contents of kanga's pouch.\n",
    "\n",
    "You don't actually have to write any code for this exercise. Instead, read through the included code and answer the questions."
   ]
  },
  {
   "cell_type": "code",
   "execution_count": 26,
   "metadata": {},
   "outputs": [],
   "source": [
    "# `Badkangaroo.py`\n",
    "class Kangaroo:\n",
    "    \"\"\"A Kangaroo is a marsupial.\"\"\"\n",
    "    \n",
    "    def __init__(self, name, contents=[]):\n",
    "        \"\"\"Initialize the pouch contents.\n",
    "\n",
    "        name: string\n",
    "        contents: initial pouch contents.\n",
    "        \"\"\"\n",
    "        self.name = name\n",
    "        self.pouch_contents = contents\n",
    "\n",
    "    def __str__(self):\n",
    "        \"\"\"Return a string representaion of this Kangaroo.\n",
    "        \"\"\"\n",
    "        t = [ self.name + ' has pouch contents:' ]\n",
    "        for obj in self.pouch_contents:\n",
    "            s = '    ' + object.__str__(obj)\n",
    "            t.append(s)\n",
    "        return '\\n'.join(t)\n",
    "\n",
    "    def put_in_pouch(self, item):\n",
    "        \"\"\"Adds a new item to the pouch contents.\n",
    "\n",
    "        item: object to be added\n",
    "        \"\"\"\n",
    "        self.pouch_contents.append(item)"
   ]
  },
  {
   "cell_type": "code",
   "execution_count": 27,
   "metadata": {},
   "outputs": [],
   "source": [
    "kanga = Kangaroo('Kanga')\n",
    "roo = Kangaroo('Roo')\n",
    "kanga.put_in_pouch('wallet')\n",
    "kanga.put_in_pouch('car keys')\n",
    "roo.put_in_pouch('candy')\n",
    "kanga.put_in_pouch(roo)"
   ]
  },
  {
   "cell_type": "code",
   "execution_count": 28,
   "metadata": {},
   "outputs": [
    {
     "name": "stdout",
     "output_type": "stream",
     "text": [
      "Kanga has pouch contents:\n",
      "    'wallet'\n",
      "    'car keys'\n",
      "    'candy'\n",
      "    <__main__.Kangaroo object at 0x7f9aaccc6250>\n"
     ]
    }
   ],
   "source": [
    "print(kanga)"
   ]
  },
  {
   "cell_type": "code",
   "execution_count": 29,
   "metadata": {},
   "outputs": [
    {
     "name": "stdout",
     "output_type": "stream",
     "text": [
      "Roo has pouch contents:\n",
      "    'wallet'\n",
      "    'car keys'\n",
      "    'candy'\n",
      "    <__main__.Kangaroo object at 0x7f9aaccc6250>\n"
     ]
    }
   ],
   "source": [
    "print(roo)"
   ]
  },
  {
   "cell_type": "markdown",
   "metadata": {},
   "source": [
    "**Question: Why does roo and kanga have the same contents?**"
   ]
  },
  {
   "cell_type": "markdown",
   "metadata": {},
   "source": [
    "Your answer: Since the intial value gets defined once and a list is a mutable object, instead of\n",
    "initializing roo as another empty list, the initialization of roo is set as the same altered list from \n",
    "kanga."
   ]
  },
  {
   "cell_type": "code",
   "execution_count": 30,
   "metadata": {},
   "outputs": [],
   "source": [
    "# `GoodKangaroo.py`\n",
    "class Kangaroo:\n",
    "    \"\"\"A Kangaroo is a marsupial.\"\"\"\n",
    "    \n",
    "    def __init__(self, name, contents=[]):\n",
    "        \"\"\"Initialize the pouch contents.\n",
    "\n",
    "        name: string\n",
    "        contents: initial pouch contents.\n",
    "        \"\"\"\n",
    "        # The problem is the default value for contents.\n",
    "        # Default values get evaluated ONCE, when the function\n",
    "        # is defined; they don't get evaluated again when the\n",
    "        # function is called.\n",
    "\n",
    "        # In this case that means that when __init__ is defined,\n",
    "        # [] gets evaluated and contents gets a reference to\n",
    "        # an empty list.\n",
    "\n",
    "        # After that, every Kangaroo that gets the default\n",
    "        # value gets a reference to THE SAME list.  If any\n",
    "        # Kangaroo modifies this shared list, they all see\n",
    "        # the change.\n",
    "\n",
    "        # The next version of __init__ shows an idiomatic way\n",
    "        # to avoid this problem.\n",
    "        self.name = name\n",
    "        self.pouch_contents = contents\n",
    "\n",
    "    def __init__(self, name, contents=None):\n",
    "        \"\"\"Initialize the pouch contents.\n",
    "\n",
    "        name: string\n",
    "        contents: initial pouch contents.\n",
    "        \"\"\"\n",
    "        # In this version, the default value is None.  When\n",
    "        # __init__ runs, it checks the value of contents and,\n",
    "        # if necessary, creates a new empty list.  That way,\n",
    "        # every Kangaroo that gets the default value gets a\n",
    "        # reference to a different list.\n",
    "\n",
    "        # As a general rule, you should avoid using a mutable\n",
    "        # object as a default value, unless you really know\n",
    "        # what you are doing.\n",
    "        self.name = name\n",
    "        if contents == None:\n",
    "            contents = []\n",
    "        self.pouch_contents = contents\n",
    "\n",
    "    def __str__(self):\n",
    "        \"\"\"Return a string representaion of this Kangaroo.\n",
    "        \"\"\"\n",
    "        t = [ self.name + ' has pouch contents:' ]\n",
    "        for obj in self.pouch_contents:\n",
    "            s = '    ' + object.__str__(obj)\n",
    "            t.append(s)\n",
    "        return '\\n'.join(t)\n",
    "\n",
    "    def put_in_pouch(self, item):\n",
    "        \"\"\"Adds a new item to the pouch contents.\n",
    "\n",
    "        item: object to be added\n",
    "        \"\"\"\n",
    "        self.pouch_contents.append(item)"
   ]
  },
  {
   "cell_type": "code",
   "execution_count": 31,
   "metadata": {},
   "outputs": [],
   "source": [
    "kanga = Kangaroo('Kanga')\n",
    "roo = Kangaroo('Roo')\n",
    "kanga.put_in_pouch('wallet')\n",
    "kanga.put_in_pouch('car keys')\n",
    "roo.put_in_pouch('candy')\n",
    "kanga.put_in_pouch(roo)"
   ]
  },
  {
   "cell_type": "code",
   "execution_count": 32,
   "metadata": {},
   "outputs": [
    {
     "name": "stdout",
     "output_type": "stream",
     "text": [
      "Kanga has pouch contents:\n",
      "    'wallet'\n",
      "    'car keys'\n",
      "    <__main__.Kangaroo object at 0x7f9aaccce460>\n"
     ]
    }
   ],
   "source": [
    "print(kanga)"
   ]
  },
  {
   "cell_type": "code",
   "execution_count": 33,
   "metadata": {},
   "outputs": [
    {
     "name": "stdout",
     "output_type": "stream",
     "text": [
      "Roo has pouch contents:\n",
      "    'candy'\n"
     ]
    }
   ],
   "source": [
    "print(roo)"
   ]
  },
  {
   "cell_type": "markdown",
   "metadata": {},
   "source": [
    "**Question: How does the `goodkangaroo` version fix the issue?**"
   ]
  },
  {
   "cell_type": "markdown",
   "metadata": {},
   "source": [
    "Your answer: By setting the initial value as a nonetype object we ensure that the next \n",
    "time we call for an initialization we receive the same empty object instead of a mutable list. \n",
    "In doing so, every Kangaroo object will get a different empty list if necessary."
   ]
  },
  {
   "cell_type": "markdown",
   "metadata": {},
   "source": [
    "## Exercise 18.3\n",
    "\n",
    "The following are the possible hands in poker, in increasing order of value and decreasing order of probability:\n",
    "\n",
    "+ pair: two cards with the same rank\n",
    "+ two pair: two pairs of cards with the same rank\n",
    "+ three of a kind: three cards with the same rank\n",
    "+ straight: five cards with ranks in sequence (aces can be high or low, so Ace-2-3-4-5 is a straight and so is 10-Jack-Queen-King-Ace, but Queen-King-Ace-2-3 is not.)\n",
    "+ flush: five cards with the same suit\n",
    "+ full house: three cards with one rank, two cards with another\n",
    "+ four of a kind: four cards with the same rank\n",
    "+ straight ﬂush: five cards in sequence (as deﬁned above) and with the same suit\n",
    "\n",
    "The goal of these exercises is to estimate the probability of drawing these various hands."
   ]
  },
  {
   "cell_type": "code",
   "execution_count": 34,
   "metadata": {},
   "outputs": [],
   "source": [
    "# no need to change this code block\n",
    "## Card.py : A complete version of the Card, Deck and Hand classes \n",
    "## in chapter 18.\n",
    "\n",
    "import random\n",
    "\n",
    "class Card:\n",
    "    \"\"\"Represents a standard playing card.\n",
    "    \n",
    "    Attributes:\n",
    "      suit: integer 0-3\n",
    "      rank: integer 1-13\n",
    "    \"\"\"\n",
    "\n",
    "    suit_names = [\"Clubs\", \"Diamonds\", \"Hearts\", \"Spades\"]\n",
    "    rank_names = [None, \"Ace\", \"2\", \"3\", \"4\", \"5\", \"6\", \"7\", \n",
    "              \"8\", \"9\", \"10\", \"Jack\", \"Queen\", \"King\"]\n",
    "\n",
    "    def __init__(self, suit=0, rank=2):\n",
    "        self.suit = suit\n",
    "        self.rank = rank\n",
    "\n",
    "    def __str__(self):\n",
    "        \"\"\"Returns a human-readable string representation.\"\"\"\n",
    "        return '%s of %s' % (Card.rank_names[self.rank],\n",
    "                             Card.suit_names[self.suit])\n",
    "\n",
    "    def __eq__(self, other):\n",
    "        \"\"\"Checks whether self and other have the same rank and suit.\n",
    "\n",
    "        returns: boolean\n",
    "        \"\"\"\n",
    "        return self.suit == other.suit and self.rank == other.rank\n",
    "\n",
    "    def __lt__(self, other):\n",
    "        \"\"\"Compares this card to other, first by suit, then rank.\n",
    "\n",
    "        returns: boolean\n",
    "        \"\"\"\n",
    "        t1 = self.suit, self.rank\n",
    "        t2 = other.suit, other.rank\n",
    "        return t1 < t2\n",
    "\n",
    "\n",
    "class Deck:\n",
    "    \"\"\"Represents a deck of cards.\n",
    "\n",
    "    Attributes:\n",
    "      cards: list of Card objects.\n",
    "    \"\"\"\n",
    "    \n",
    "    def __init__(self):\n",
    "        \"\"\"Initializes the Deck with 52 cards.\n",
    "        \"\"\"\n",
    "        self.cards = []\n",
    "        for suit in range(4):\n",
    "            for rank in range(1, 14):\n",
    "                card = Card(suit, rank)\n",
    "                self.cards.append(card)\n",
    "\n",
    "    def __str__(self):\n",
    "        \"\"\"Returns a string representation of the deck.\n",
    "        \"\"\"\n",
    "        res = []\n",
    "        for card in self.cards:\n",
    "            res.append(str(card))\n",
    "        return '\\n'.join(res)\n",
    "\n",
    "    def add_card(self, card):\n",
    "        \"\"\"Adds a card to the deck.\n",
    "\n",
    "        card: Card\n",
    "        \"\"\"\n",
    "        self.cards.append(card)\n",
    "\n",
    "    def remove_card(self, card):\n",
    "        \"\"\"Removes a card from the deck or raises exception if it is not there.\n",
    "        \n",
    "        card: Card\n",
    "        \"\"\"\n",
    "        self.cards.remove(card)\n",
    "\n",
    "    def pop_card(self, i=-1):\n",
    "        \"\"\"Removes and returns a card from the deck.\n",
    "\n",
    "        i: index of the card to pop; by default, pops the last card.\n",
    "        \"\"\"\n",
    "        return self.cards.pop(i)\n",
    "\n",
    "    def shuffle(self):\n",
    "        \"\"\"Shuffles the cards in this deck.\"\"\"\n",
    "        random.shuffle(self.cards)\n",
    "\n",
    "    def sort(self):\n",
    "        \"\"\"Sorts the cards in ascending order.\"\"\"\n",
    "        self.cards.sort()\n",
    "\n",
    "    def move_cards(self, hand, num):\n",
    "        \"\"\"Moves the given number of cards from the deck into the Hand.\n",
    "\n",
    "        hand: destination Hand object\n",
    "        num: integer number of cards to move\n",
    "        \"\"\"\n",
    "        for i in range(num):\n",
    "            hand.add_card(self.pop_card())\n",
    "\n",
    "\n",
    "class Hand(Deck):\n",
    "    \"\"\"Represents a hand of playing cards.\"\"\"\n",
    "    \n",
    "    def __init__(self, label=''):\n",
    "        self.cards = []\n",
    "        self.label = label\n",
    "\n",
    "\n",
    "def find_defining_class(obj, method_name):\n",
    "    \"\"\"Finds and returns the class object that will provide \n",
    "    the definition of method_name (as a string) if it is\n",
    "    invoked on obj.\n",
    "\n",
    "    obj: any python object\n",
    "    method_name: string method name\n",
    "    \"\"\"\n",
    "    for ty in type(obj).mro():\n",
    "        if method_name in ty.__dict__:\n",
    "            return ty\n",
    "    return None"
   ]
  },
  {
   "cell_type": "code",
   "execution_count": 35,
   "metadata": {},
   "outputs": [],
   "source": [
    "# no need to change this code block\n",
    "## PokerHand.py : An incomplete implementation of a class that represents a poker hand, and\n",
    "## some code that tests it.\n",
    "class PokerHand(Hand):\n",
    "    \"\"\"Represents a poker hand.\"\"\"\n",
    "    \n",
    "    # all_labels is a list of all the labels in order from highest rank\n",
    "    # to lowest rank\n",
    "    all_labels = ['straightflush', 'fourkind', 'fullhouse', 'flush',\n",
    "                  'straight', 'threekind', 'twopair', 'pair', 'highcard']\n",
    "\n",
    "    def suit_hist(self):\n",
    "        \"\"\"Builds a histogram of the suits that appear in the hand.\n",
    "\n",
    "        Stores the result in attribute suits.\n",
    "        \"\"\"\n",
    "        self.suits = {}\n",
    "        for card in self.cards:\n",
    "            self.suits[card.suit] = self.suits.get(card.suit, 0) + 1\n",
    "\n",
    "    def has_flush(self):\n",
    "        \"\"\"Returns True if the hand has a flush, False otherwise.\n",
    "      \n",
    "        Note that this works correctly for hands with more than 5 cards.\n",
    "        \"\"\"\n",
    "        self.suit_hist()\n",
    "        for val in self.suits.values():\n",
    "            if val >= 5:\n",
    "                return True\n",
    "        return False"
   ]
  },
  {
   "cell_type": "markdown",
   "metadata": {},
   "source": [
    "If you run the following cell, it deals seven 7-card poker hands and checks to see if any of them contains a flush. Read this code carefully before you go on."
   ]
  },
  {
   "cell_type": "code",
   "execution_count": 36,
   "metadata": {},
   "outputs": [
    {
     "name": "stdout",
     "output_type": "stream",
     "text": [
      "2 of Clubs\n",
      "7 of Clubs\n",
      "Jack of Clubs\n",
      "Queen of Clubs\n",
      "3 of Hearts\n",
      "Ace of Spades\n",
      "3 of Spades\n",
      "False\n",
      "\n",
      "5 of Clubs\n",
      "5 of Diamonds\n",
      "Queen of Diamonds\n",
      "King of Diamonds\n",
      "2 of Hearts\n",
      "4 of Spades\n",
      "6 of Spades\n",
      "False\n",
      "\n",
      "6 of Clubs\n",
      "8 of Clubs\n",
      "4 of Hearts\n",
      "6 of Hearts\n",
      "Queen of Hearts\n",
      "7 of Spades\n",
      "8 of Spades\n",
      "False\n",
      "\n",
      "10 of Clubs\n",
      "3 of Diamonds\n",
      "Jack of Diamonds\n",
      "8 of Hearts\n",
      "9 of Hearts\n",
      "Jack of Hearts\n",
      "Queen of Spades\n",
      "False\n",
      "\n",
      "Ace of Clubs\n",
      "Ace of Diamonds\n",
      "6 of Diamonds\n",
      "7 of Diamonds\n",
      "10 of Diamonds\n",
      "10 of Hearts\n",
      "5 of Spades\n",
      "False\n",
      "\n",
      "4 of Clubs\n",
      "2 of Diamonds\n",
      "8 of Diamonds\n",
      "7 of Hearts\n",
      "King of Hearts\n",
      "9 of Spades\n",
      "King of Spades\n",
      "False\n",
      "\n",
      "3 of Clubs\n",
      "9 of Clubs\n",
      "Ace of Hearts\n",
      "5 of Hearts\n",
      "2 of Spades\n",
      "10 of Spades\n",
      "Jack of Spades\n",
      "False\n",
      "\n"
     ]
    }
   ],
   "source": [
    "# no need to change this code block\n",
    "# make a deck\n",
    "deck = Deck()\n",
    "deck.shuffle()\n",
    "\n",
    "# deal the cards and classify the hands\n",
    "for i in range(7):\n",
    "    hand = PokerHand()\n",
    "    deck.move_cards(hand, 7)\n",
    "    hand.sort()\n",
    "    print(hand)\n",
    "    print(hand.has_flush())\n",
    "    print('')"
   ]
  },
  {
   "cell_type": "markdown",
   "metadata": {},
   "source": [
    "3. Add methods to `class PokerHand` named `has_pair`, `has_twopair`, etc. that return True or False according to whether or not the hand meets the relevant criteria. Your code should work correctly for \"hands\" that contain any number of cards (although 5 and 7 are the most common sizes).\n",
    "\n",
    "4. Write a method named `classify` that figures out the classifications for a hand and creates a list of labels accordingly. For example, a 7-card hand might contain a flush and a pair. It will create an attribute `labels` which is a list `[\"flush\", \"pair\"]"
   ]
  },
  {
   "cell_type": "code",
   "execution_count": 48,
   "metadata": {},
   "outputs": [],
   "source": [
    "# fix this code here\n",
    "class PokerHand(Hand):\n",
    "    \"\"\"Represents a poker hand.\"\"\"\n",
    "\n",
    "    # all_labels is a list of all the labels in order from highest rank\n",
    "    # to lowest rank\n",
    "    all_labels = ['straightflush', 'fourkind', 'fullhouse', 'flush',\n",
    "                  'straight', 'threekind', 'twopair', 'pair', 'highcard']\n",
    "    \n",
    "    def suit_hist(self):\n",
    "        \"\"\"Builds a histogram of the suits that appear in the hand.\n",
    "\n",
    "        Stores the result in attribute suits.\n",
    "        \"\"\"\n",
    "        self.suits = {}\n",
    "        for card in self.cards:\n",
    "            self.suits[card.suit] = self.suits.get(card.suit, 0) + 1\n",
    "\n",
    "    def has_flush(self):\n",
    "        \"\"\"Returns True if the hand has a flush, False otherwise.\n",
    "      \n",
    "        Note that this works correctly for hands with more than 5 cards.\n",
    "        \"\"\"\n",
    "        self.suit_hist() #when creating something in another function you can use that object\n",
    "        for val in self.suits.values():\n",
    "            if val >= 5:\n",
    "                return True\n",
    "        return False\n",
    "    \n",
    "    def has_highcard(self):\n",
    "        if self.has_twopair():\n",
    "            return False\n",
    "        if self.has_flush():\n",
    "            return False\n",
    "        if self.has_threekind():\n",
    "            return False\n",
    "        if self.has_fourkind():\n",
    "            return False\n",
    "        if self.has_fullhouse():\n",
    "            return False\n",
    "        if self.has_straight():\n",
    "            return False\n",
    "        if self.has_straightflush():\n",
    "            return False\n",
    "        if self.has_pair():\n",
    "            return False\n",
    "        else: \n",
    "            return True\n",
    "        \n",
    "    def has_pair(self):\n",
    "        self.ranks = {}\n",
    "        for card in self.cards:\n",
    "            self.ranks[card.rank] = self.ranks.get(card.rank,0)+1\n",
    "        for val in self.ranks.values():\n",
    "            if val >= 2:\n",
    "                return True\n",
    "        return False\n",
    "    \n",
    "    def has_twopair(self):\n",
    "        count = 0\n",
    "        self.ranks = {}\n",
    "        for card in self.cards:\n",
    "            self.ranks[card.rank] = self.ranks.get(card.rank,0)+1\n",
    "        for val in self.ranks.values():\n",
    "            if val >= 2:\n",
    "                count += 1\n",
    "            if count >= 2:\n",
    "                return True\n",
    "        return False \n",
    "    \n",
    "    def has_threekind(self):\n",
    "        self.ranks = {}\n",
    "        for card in self.cards:\n",
    "            self.ranks[card.rank] = self.ranks.get(card.rank,0)+1\n",
    "        for val in self.ranks.values():\n",
    "            if val >= 3:\n",
    "                return True\n",
    "        return False\n",
    "    \n",
    "    def has_fourkind(self):\n",
    "        self.ranks = {}\n",
    "        for card in self.cards:\n",
    "            self.ranks[card.rank] = self.ranks.get(card.rank,0)+1\n",
    "        for val in self.ranks.values():\n",
    "            if val == 4:\n",
    "                return True\n",
    "        return False\n",
    "    \n",
    "    def has_fullhouse(self):\n",
    "        self.ranks = {}\n",
    "        for card in self.cards:\n",
    "            self.ranks[card.rank] = self.ranks.get(card.rank,0)+1\n",
    "        for i in range(1,13):\n",
    "            for j in range(1,13):\n",
    "                if i == j:\n",
    "                    continue\n",
    "                if i not in self.ranks.keys():\n",
    "                    continue\n",
    "                if j not in self.ranks.keys():\n",
    "                    continue\n",
    "                if (self.ranks[i] >= 3 and self.ranks[j] >= 2) or (self.ranks[i] >= 2 and self.ranks[j] >= 3):\n",
    "                    return True\n",
    "        return False\n",
    "        \n",
    "    def has_straight(self):\n",
    "        self.ranks = {}\n",
    "        for card in self.cards:\n",
    "            self.ranks[card.rank] = self.ranks.get(card.rank,0)+1\n",
    "\n",
    "        for card in self.cards:\n",
    "            count = 0\n",
    "            for i in range(5):\n",
    "                if (count == 4) and (card.rank == 13) and (1 in self.ranks.keys()):\n",
    "                    return True\n",
    "                if card.rank + i in self.ranks.keys():\n",
    "                    count += 1\n",
    "            if count >= 5:\n",
    "                return True\n",
    "        return False\n",
    "\n",
    "    \n",
    "    def in_a_row(self, ranks, n=5):\n",
    "        self.ranks = {}\n",
    "        for card in self.cards:\n",
    "            self.ranks[card.rank] = self.ranks.get(card.rank,0)+1\n",
    "        for card in self.cards:\n",
    "            count = 0\n",
    "            for i in n:\n",
    "                if card.rank + i in ranks:\n",
    "                    count += 1\n",
    "            if count == n:\n",
    "                return True\n",
    "        return False\n",
    "    \n",
    "    def has_straightflush(self):\n",
    "        for x in self.cards: #create high ace because a straightflush can include a high ace\n",
    "            if x.rank == 1:\n",
    "                ace = Card(x.suit, 14)\n",
    "                self.cards.append(ace)\n",
    "\n",
    "        for card in self.cards:\n",
    "            i = 0\n",
    "            for index in range(5):\n",
    "                for card2 in self.cards:\n",
    "                    if (card2.suit == card.suit):\n",
    "                        if (card2.rank == card.rank + index):\n",
    "                            i += 1\n",
    "            if i >= 5:\n",
    "                return True\n",
    "        return False\n",
    "\n",
    "    def classify(self):\n",
    "        self.labels = ['highcard']\n",
    "        if self.has_pair():\n",
    "            self.labels.append('pair')\n",
    "        if self.has_twopair():\n",
    "            self.labels.append('twopair')\n",
    "        if self.has_threekind():\n",
    "            self.labels.append('threekind')\n",
    "        if self.has_straight():\n",
    "            self.labels.append('straight')\n",
    "        if self.has_flush():\n",
    "            self.labels.append('flush')\n",
    "        if self.has_fullhouse():\n",
    "            self.labels.append('fullhouse')\n",
    "        if self.has_fourkind():\n",
    "            self.labels.append('fourkind')\n",
    "        if self.has_straightflush():\n",
    "            self.labels.append('straightflush')\n",
    "        if len(self.labels) > 1:\n",
    "            self.labels = self.labels[1:]\n",
    "        return self.labels[-1]"
   ]
  },
  {
   "cell_type": "markdown",
   "metadata": {},
   "source": [
    "5. When you are convinced that your classification methods are working, the next step is to estimate the probabilities of the various hands.\n",
    "\n",
    "Use the following functions that will shuffle a deck of cards, divides it into hands, classifies the hands, and counts the number of times various classifications appear."
   ]
  },
  {
   "cell_type": "code",
   "execution_count": 38,
   "metadata": {},
   "outputs": [],
   "source": [
    "# no need to change this code block\n",
    "class PokerDeck(Deck):\n",
    "    \"\"\"Represents a deck of cards that can deal poker hands.\"\"\"\n",
    "\n",
    "    def deal_hands(self, num_cards=5, num_hands=10):\n",
    "        \"\"\"Deals hands from the deck and returns Hands.\n",
    "\n",
    "        num_cards: cards per hand\n",
    "        num_hands: number of hands\n",
    "\n",
    "        returns: list of Hands\n",
    "        \"\"\"\n",
    "        hands = []\n",
    "        for i in range(num_hands):        \n",
    "            hand = PokerHand()\n",
    "            self.move_cards(hand, num_cards)\n",
    "            hand.classify()\n",
    "            hands.append(hand)\n",
    "        return hands"
   ]
  },
  {
   "cell_type": "code",
   "execution_count": 39,
   "metadata": {},
   "outputs": [],
   "source": [
    "# no need to change this code block\n",
    "class Hist(dict):\n",
    "    \"\"\"A map from each item (x) to its frequency.\"\"\"\n",
    "\n",
    "    def __init__(self, seq=[]):\n",
    "        \"Creates a new histogram starting with the items in seq.\"\n",
    "        for x in seq:\n",
    "            self.count(x)\n",
    "\n",
    "    def count(self, x, f=1):\n",
    "        \"Increments (or decrements) the counter associated with item x.\"\n",
    "        self[x] = self.get(x, 0) + f\n",
    "        if self[x] == 0:\n",
    "            del self[x]"
   ]
  },
  {
   "cell_type": "code",
   "execution_count": 40,
   "metadata": {},
   "outputs": [],
   "source": [
    "# test code. no need to modify\n",
    "def main():\n",
    "    # the label histogram: map from label to number of occurances\n",
    "    lhist = Hist()\n",
    "\n",
    "    # loop n times, dealing 7 hands per iteration, 7 cards each\n",
    "    n = 10000\n",
    "    for i in range(n):\n",
    "        if i % 1000 == 0:\n",
    "            print(i)\n",
    "            \n",
    "        deck = PokerDeck()\n",
    "        deck.shuffle()\n",
    "\n",
    "        hands = deck.deal_hands(7, 7)\n",
    "        for hand in hands:\n",
    "            for label in hand.labels:\n",
    "                lhist.count(label)\n",
    "            \n",
    "    # print the results\n",
    "    total = 7.0 * n\n",
    "    print(total, 'hands dealt:')\n",
    "\n",
    "    for label in PokerHand.all_labels:\n",
    "        freq = lhist.get(label, 0)\n",
    "        if freq == 0: \n",
    "            continue\n",
    "        p = total / freq\n",
    "        print('%s happens one time in %.2f' % (label, p))\n"
   ]
  },
  {
   "cell_type": "code",
   "execution_count": 49,
   "metadata": {},
   "outputs": [
    {
     "name": "stdout",
     "output_type": "stream",
     "text": [
      "0\n",
      "1000\n",
      "2000\n",
      "3000\n",
      "4000\n",
      "5000\n",
      "6000\n",
      "7000\n",
      "8000\n",
      "9000\n",
      "70000.0 hands dealt:\n",
      "straightflush happens one time in 3181.82\n",
      "fourkind happens one time in 603.45\n",
      "fullhouse happens one time in 43.16\n",
      "flush happens one time in 33.33\n",
      "straight happens one time in 23.70\n",
      "threekind happens one time in 12.63\n",
      "twopair happens one time in 3.72\n",
      "pair happens one time in 1.26\n",
      "highcard happens one time in 5.73\n"
     ]
    }
   ],
   "source": [
    "# test code\n",
    "main()"
   ]
  }
 ],
 "metadata": {
  "kernelspec": {
   "display_name": "Python 3 (ipykernel)",
   "language": "python",
   "name": "python3"
  },
  "language_info": {
   "codemirror_mode": {
    "name": "ipython",
    "version": 3
   },
   "file_extension": ".py",
   "mimetype": "text/x-python",
   "name": "python",
   "nbconvert_exporter": "python",
   "pygments_lexer": "ipython3",
   "version": "3.9.7"
  }
 },
 "nbformat": 4,
 "nbformat_minor": 4
}
