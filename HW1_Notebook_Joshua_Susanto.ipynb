{
 "cells": [
  {
   "cell_type": "markdown",
   "metadata": {},
   "source": [
    "# Stats 21: Homework 1\n",
    "\n",
    "## Joshua Susanto\n",
    "\n",
    "Acknowledgements: several of these problems are copied from or modified from Think Python by Allen Downey.\n",
    "\n",
    "I've started the homework file for you. You'll need to fill in the rest with your answers.\n",
    "My encouragement is to use the keyboard shortcuts as much as possible and use the mouse as little as possible while working the Jupyter Notebook.\n",
    "\n",
    "After you complete the homework with your answers, go to the menu and choose **Kernel > Restart & Run All.** Review the document to **make sure all requested output is visible**. You will not get credit for problems where the requested output is not visible, even if the function you coded is correct.\n",
    "\n",
    "When you are satisfied with the output, choose File > Download As ... > PDF or  HTML. If you choose to save as HTML, you'll then need to \"Print as PDF\". Submit the PDF to Gradescope.\n",
    "\n",
    "Submit this ipynb file, complete with your answers and output to Canvas / Bruin Learn.\n",
    "\n",
    "**Again, you must make sure all requested output is visible to receive full credit.**"
   ]
  },
  {
   "cell_type": "markdown",
   "metadata": {},
   "source": [
    "# Task 1"
   ]
  },
  {
   "cell_type": "markdown",
   "metadata": {},
   "source": [
    "Create an account on GitHub. \n",
    "\n",
    "Change your profile picture. Ideally, use photo of yourself that would be appropriate for a resume. If you are not comfortable with the idea of using a photo of yourself, use any other image that is suitable for a workplace environment.\n",
    "\n",
    "Follow the instructions provided in class to fork the class repository to your GitHub.\n",
    "\n",
    "Create another repository with at least two text files in it on GitHub (other than the forked class notes repository). Make at least two additional commits to the reposiotry and push them to GitHub.\n",
    "\n",
    "Provide a link to both repositories here.\n",
    "\n",
    "You will also need to submit the link to your own repository (not the forked one) to Canvas / Bruin Learn."
   ]
  },
  {
   "cell_type": "markdown",
   "metadata": {},
   "source": [
    "## Your Answer:\n",
    "\n",
    "- Link to your forked repository: https://github.com/jossus657/2022-wi-stats21.git\n",
    "- Link to your own repository: https://github.com/jossus657/Joshua_Susanto_STATS21.git"
   ]
  },
  {
   "cell_type": "markdown",
   "metadata": {},
   "source": [
    "# Problem 2"
   ]
  },
  {
   "cell_type": "markdown",
   "metadata": {},
   "source": [
    "An important part of programming is learning to interpret error messages and understanding what correction needs to be made.\n",
    "\n",
    "Read and familiarize yourself with the following error messages.\n",
    "\n",
    "Explain the error. Then duplicate each cell and correct the error. The first problem has been done for you as an example."
   ]
  },
  {
   "cell_type": "code",
   "execution_count": 1,
   "metadata": {
    "tags": [
     "raises-exception"
    ]
   },
   "outputs": [
    {
     "ename": "SyntaxError",
     "evalue": "unexpected EOF while parsing (1427017300.py, line 2)",
     "output_type": "error",
     "traceback": [
      "\u001b[0;36m  File \u001b[0;32m\"/var/folders/z4/1nckxbbs45q8z44xg1hvdp8c0000gn/T/ipykernel_80984/1427017300.py\"\u001b[0;36m, line \u001b[0;32m2\u001b[0m\n\u001b[0;31m    print(\"Hello World\"\u001b[0m\n\u001b[0m                       ^\u001b[0m\n\u001b[0;31mSyntaxError\u001b[0m\u001b[0;31m:\u001b[0m unexpected EOF while parsing\n"
     ]
    }
   ],
   "source": [
    "# A\n",
    "print(\"Hello World\""
   ]
  },
  {
   "cell_type": "markdown",
   "metadata": {},
   "source": [
    "Answer: The `print()` function is missing the closing parenthesis. This results in an unexpected EOF error."
   ]
  },
  {
   "cell_type": "code",
   "execution_count": 2,
   "metadata": {},
   "outputs": [
    {
     "name": "stdout",
     "output_type": "stream",
     "text": [
      "Hello World\n"
     ]
    }
   ],
   "source": [
    "# corrected:\n",
    "print(\"Hello World\")"
   ]
  },
  {
   "cell_type": "code",
   "execution_count": 3,
   "metadata": {
    "tags": [
     "raises-exception"
    ]
   },
   "outputs": [
    {
     "ename": "IndentationError",
     "evalue": "unexpected indent (66443029.py, line 3)",
     "output_type": "error",
     "traceback": [
      "\u001b[0;36m  File \u001b[0;32m\"/var/folders/z4/1nckxbbs45q8z44xg1hvdp8c0000gn/T/ipykernel_80984/66443029.py\"\u001b[0;36m, line \u001b[0;32m3\u001b[0m\n\u001b[0;31m    print(\"Goodbye\")\u001b[0m\n\u001b[0m    ^\u001b[0m\n\u001b[0;31mIndentationError\u001b[0m\u001b[0;31m:\u001b[0m unexpected indent\n"
     ]
    }
   ],
   "source": [
    "# B\n",
    "print(\"Hello\")\n",
    "    print(\"Goodbye\")"
   ]
  },
  {
   "cell_type": "markdown",
   "metadata": {},
   "source": [
    "The second print function is indented when there should not be an indent. This results in an indentation error."
   ]
  },
  {
   "cell_type": "code",
   "execution_count": 4,
   "metadata": {
    "tags": []
   },
   "outputs": [
    {
     "name": "stdout",
     "output_type": "stream",
     "text": [
      "Hello\n",
      "Goodbye\n"
     ]
    }
   ],
   "source": [
    "# corrected:\n",
    "print(\"Hello\")\n",
    "print(\"Goodbye\")"
   ]
  },
  {
   "cell_type": "code",
   "execution_count": 5,
   "metadata": {
    "tags": [
     "raises-exception"
    ]
   },
   "outputs": [
    {
     "ename": "SyntaxError",
     "evalue": "invalid syntax (4211757722.py, line 3)",
     "output_type": "error",
     "traceback": [
      "\u001b[0;36m  File \u001b[0;32m\"/var/folders/z4/1nckxbbs45q8z44xg1hvdp8c0000gn/T/ipykernel_80984/4211757722.py\"\u001b[0;36m, line \u001b[0;32m3\u001b[0m\n\u001b[0;31m    if x > 8\u001b[0m\n\u001b[0m            ^\u001b[0m\n\u001b[0;31mSyntaxError\u001b[0m\u001b[0;31m:\u001b[0m invalid syntax\n"
     ]
    }
   ],
   "source": [
    "# C\n",
    "x = 10\n",
    "if x > 8\n",
    "    print(\"x is greater than 8\")"
   ]
  },
  {
   "cell_type": "markdown",
   "metadata": {},
   "source": [
    "The if statement is missing a \":\" to start the body of the function. This causes a syntax error."
   ]
  },
  {
   "cell_type": "code",
   "execution_count": 6,
   "metadata": {},
   "outputs": [
    {
     "name": "stdout",
     "output_type": "stream",
     "text": [
      "x is greater than 8\n"
     ]
    }
   ],
   "source": [
    "# corrected:\n",
    "x = 10\n",
    "if x > 8:\n",
    "    print(\"x is greater than 8\")"
   ]
  },
  {
   "cell_type": "code",
   "execution_count": 7,
   "metadata": {
    "tags": [
     "raises-exception"
    ]
   },
   "outputs": [
    {
     "ename": "SyntaxError",
     "evalue": "invalid syntax (2686327292.py, line 2)",
     "output_type": "error",
     "traceback": [
      "\u001b[0;36m  File \u001b[0;32m\"/var/folders/z4/1nckxbbs45q8z44xg1hvdp8c0000gn/T/ipykernel_80984/2686327292.py\"\u001b[0;36m, line \u001b[0;32m2\u001b[0m\n\u001b[0;31m    if x = 10:\u001b[0m\n\u001b[0m         ^\u001b[0m\n\u001b[0;31mSyntaxError\u001b[0m\u001b[0;31m:\u001b[0m invalid syntax\n"
     ]
    }
   ],
   "source": [
    "# D\n",
    "if x = 10:\n",
    "    print(\"x is equal to 10\")"
   ]
  },
  {
   "cell_type": "markdown",
   "metadata": {},
   "source": [
    "The relational operator of the if statement needs a double equal sign. A single equal sign is used to assign a variable and thus causes a syntax error."
   ]
  },
  {
   "cell_type": "code",
   "execution_count": 8,
   "metadata": {},
   "outputs": [
    {
     "name": "stdout",
     "output_type": "stream",
     "text": [
      "x is equal to 10\n"
     ]
    }
   ],
   "source": [
    "# Corrected:\n",
    "if x == 10:\n",
    "    print(\"x is equal to 10\")"
   ]
  },
  {
   "cell_type": "code",
   "execution_count": 9,
   "metadata": {
    "tags": [
     "raises-exception"
    ]
   },
   "outputs": [
    {
     "ename": "IndentationError",
     "evalue": "expected an indented block (2346592504.py, line 4)",
     "output_type": "error",
     "traceback": [
      "\u001b[0;36m  File \u001b[0;32m\"/var/folders/z4/1nckxbbs45q8z44xg1hvdp8c0000gn/T/ipykernel_80984/2346592504.py\"\u001b[0;36m, line \u001b[0;32m4\u001b[0m\n\u001b[0;31m    print(\"x is five\")\u001b[0m\n\u001b[0m    ^\u001b[0m\n\u001b[0;31mIndentationError\u001b[0m\u001b[0;31m:\u001b[0m expected an indented block\n"
     ]
    }
   ],
   "source": [
    "# E\n",
    "x = 5\n",
    "if x == 5:\n",
    "print(\"x is five\")"
   ]
  },
  {
   "cell_type": "markdown",
   "metadata": {},
   "source": [
    "The body of the if statement needs to be indented in order for the if function to run. The lack of indentation causes a syntax error."
   ]
  },
  {
   "cell_type": "code",
   "execution_count": 10,
   "metadata": {},
   "outputs": [
    {
     "name": "stdout",
     "output_type": "stream",
     "text": [
      "x is five\n"
     ]
    }
   ],
   "source": [
    "# Corrected:\n",
    "x = 5\n",
    "if x == 5:\n",
    "    print(\"x is five\")"
   ]
  },
  {
   "cell_type": "code",
   "execution_count": 11,
   "metadata": {
    "tags": [
     "raises-exception"
    ]
   },
   "outputs": [
    {
     "ename": "NameError",
     "evalue": "name 'sort' is not defined",
     "output_type": "error",
     "traceback": [
      "\u001b[0;31m---------------------------------------------------------------------------\u001b[0m",
      "\u001b[0;31mNameError\u001b[0m                                 Traceback (most recent call last)",
      "\u001b[0;32m/var/folders/z4/1nckxbbs45q8z44xg1hvdp8c0000gn/T/ipykernel_80984/3151735166.py\u001b[0m in \u001b[0;36m<module>\u001b[0;34m\u001b[0m\n\u001b[1;32m      1\u001b[0m \u001b[0;31m# F\u001b[0m\u001b[0;34m\u001b[0m\u001b[0;34m\u001b[0m\u001b[0m\n\u001b[1;32m      2\u001b[0m \u001b[0ml\u001b[0m \u001b[0;34m=\u001b[0m \u001b[0;34m[\u001b[0m\u001b[0;36m1\u001b[0m\u001b[0;34m,\u001b[0m \u001b[0;36m2\u001b[0m\u001b[0;34m,\u001b[0m \u001b[0;36m50\u001b[0m\u001b[0;34m,\u001b[0m \u001b[0;36m10\u001b[0m\u001b[0;34m]\u001b[0m\u001b[0;34m\u001b[0m\u001b[0;34m\u001b[0m\u001b[0m\n\u001b[0;32m----> 3\u001b[0;31m \u001b[0ml\u001b[0m \u001b[0;34m=\u001b[0m \u001b[0msort\u001b[0m\u001b[0;34m(\u001b[0m\u001b[0ml\u001b[0m\u001b[0;34m)\u001b[0m\u001b[0;34m\u001b[0m\u001b[0;34m\u001b[0m\u001b[0m\n\u001b[0m",
      "\u001b[0;31mNameError\u001b[0m: name 'sort' is not defined"
     ]
    }
   ],
   "source": [
    "# F\n",
    "l = [1, 2, 50, 10]\n",
    "l = sort(l)"
   ]
  },
  {
   "cell_type": "markdown",
   "metadata": {},
   "source": [
    "The sort function is used incorrectly. The sort() function is invoked using dot notation and also can not have the list/variable inserted as an argument. Additionally, the sort() function does not output the sorted list so nothing happens when you try to store the sort() function back in l; l itself is already changed by using the sort function. Another way to correct this is to use the sorted() function, which will output a sorted list but not change the list itself."
   ]
  },
  {
   "cell_type": "code",
   "execution_count": 12,
   "metadata": {},
   "outputs": [
    {
     "name": "stdout",
     "output_type": "stream",
     "text": [
      "[1, 2, 10, 50]\n",
      "[1, 2, 10, 50]\n"
     ]
    }
   ],
   "source": [
    "# Corrected:\n",
    "l = [1, 2, 50, 10]\n",
    "print(sorted(l))\n",
    "l.sort()\n",
    "print(l)"
   ]
  },
  {
   "cell_type": "markdown",
   "metadata": {},
   "source": [
    "# Problem 3"
   ]
  },
  {
   "cell_type": "markdown",
   "metadata": {},
   "source": [
    "Use Python as a calculator. Enter the appropriate calculation in a cell and be sure the output value is visible.\n",
    "\n",
    "A. How many seconds are there in 42 minutes 42 seconds?"
   ]
  },
  {
   "cell_type": "code",
   "execution_count": 13,
   "metadata": {},
   "outputs": [
    {
     "name": "stdout",
     "output_type": "stream",
     "text": [
      "There are 2562 seconds in 42 minutes and 42 seconds.\n"
     ]
    }
   ],
   "source": [
    "print(\"There are\",(42*60)+42, \"seconds in 42 minutes and 42 seconds.\")"
   ]
  },
  {
   "cell_type": "markdown",
   "metadata": {},
   "source": [
    "B. There are 1.61 kilometers in a mile. How many miles are there in 10 kilometers?"
   ]
  },
  {
   "cell_type": "code",
   "execution_count": 14,
   "metadata": {},
   "outputs": [
    {
     "name": "stdout",
     "output_type": "stream",
     "text": [
      "There are 6.211180124223602 miles in 10 kilometers\n"
     ]
    }
   ],
   "source": [
    "print(\"There are\",10/1.61, \"miles in 10 kilometers\")"
   ]
  },
  {
   "cell_type": "markdown",
   "metadata": {},
   "source": [
    "C. If you run a 10 kilometer race in 42 minutes 42 seconds, what is your average 1-mile pace (time to complete 1 mile in minutes and seconds)? What is your average speed in\n",
    "miles per hour?"
   ]
  },
  {
   "cell_type": "code",
   "execution_count": 15,
   "metadata": {},
   "outputs": [
    {
     "name": "stdout",
     "output_type": "stream",
     "text": [
      "My average 1-mile pace is 6 Minutes and 52 Seconds.\n"
     ]
    }
   ],
   "source": [
    "MilePaceTotalSec = 1/((10/1.61)/2562)\n",
    "MilePaceMin = (MilePaceTotalSec//60) \n",
    "MilePaceSec = MilePaceTotalSec%60\n",
    "print(\"My average 1-mile pace is\",\"%0.f\" % MilePaceMin,\"Minutes\",\"and\",\"%0.f\" % MilePaceSec,\"Seconds.\")"
   ]
  },
  {
   "cell_type": "code",
   "execution_count": 3,
   "metadata": {},
   "outputs": [
    {
     "name": "stdout",
     "output_type": "stream",
     "text": [
      "My average speed is 8.728 miles per hour\n"
     ]
    }
   ],
   "source": [
    "mph = ((10/1.61)/2562)*60*60\n",
    "print(\"My average speed is\",\"%0.3f\" % mph,\"miles per hour\")"
   ]
  },
  {
   "cell_type": "markdown",
   "metadata": {},
   "source": [
    "# Problem 4\n",
    "Write functions for the following problems."
   ]
  },
  {
   "cell_type": "markdown",
   "metadata": {},
   "source": [
    "A. The volume of a sphere with radius r is $$V = \\frac{4}{3}\\pi r^3$$\n",
    "\n",
    "Write a function `sphere_volume(r)` that will accept a radius as an argument and return the volume.\n",
    "\n",
    "- Use the function to ﬁnd the volume of a sphere with radius 5.\n",
    "- Use the function to ﬁnd the volume of a sphere with radius 15."
   ]
  },
  {
   "cell_type": "code",
   "execution_count": 17,
   "metadata": {},
   "outputs": [],
   "source": [
    "import math\n",
    "def sphere_volume(r):\n",
    "    volume = (4/3)*math.pi*(r**3)\n",
    "    return volume"
   ]
  },
  {
   "cell_type": "code",
   "execution_count": 18,
   "metadata": {},
   "outputs": [
    {
     "name": "stdout",
     "output_type": "stream",
     "text": [
      "The volume of a sphere with radius 5 is 523.5987755982989. The volume of a sphere with radius 15 is 14137.166941154068.\n"
     ]
    }
   ],
   "source": [
    "print(\"The volume of a sphere with radius 5 is \",sphere_volume(5),\n",
    "      \". The volume of a sphere with radius 15 is \",sphere_volume(15), \".\", sep = '')"
   ]
  },
  {
   "cell_type": "markdown",
   "metadata": {},
   "source": [
    "B. Suppose the cover price of a book is \\\\$24.95, but bookstores get a 40\\% discount. Shipping costs \\\\$3 for the ﬁrst copy and 75 cents for each additional copy.\n",
    "\n",
    "Write a function `wholesale_cost(books)` that accepts an argument for the number of books and will return the total cost of the books plus shipping.\n",
    "\n",
    "- Use the function to ﬁnd the total wholesale cost for 60 copies.\n",
    "- Use the function to ﬁnd the total wholesale cost for 10 copies."
   ]
  },
  {
   "cell_type": "code",
   "execution_count": 19,
   "metadata": {},
   "outputs": [],
   "source": [
    "def wholesale_cost(books):\n",
    "    if (books == 0):\n",
    "        return 0\n",
    "    if (books < 0):\n",
    "        error = \"Please Enter Positive Amount.\"\n",
    "        return error\n",
    "    ship_cost = 3 + 0.75*(books - 1)\n",
    "    books_cost = 0.6*(books*24.95)\n",
    "    total_cost = round(ship_cost + books_cost,2)\n",
    "    return total_cost"
   ]
  },
  {
   "cell_type": "code",
   "execution_count": 20,
   "metadata": {},
   "outputs": [
    {
     "name": "stdout",
     "output_type": "stream",
     "text": [
      "The cost of 60 books is 945.45 dollars.\n"
     ]
    }
   ],
   "source": [
    "print(\"The cost of 60 books is\", wholesale_cost(60), \"dollars.\")"
   ]
  },
  {
   "cell_type": "code",
   "execution_count": 21,
   "metadata": {},
   "outputs": [
    {
     "name": "stdout",
     "output_type": "stream",
     "text": [
      "The cost of 10 books is 159.45 dollars.\n"
     ]
    }
   ],
   "source": [
    "print(\"The cost of 10 books is\",wholesale_cost(10), \"dollars.\")"
   ]
  },
  {
   "cell_type": "markdown",
   "metadata": {},
   "source": [
    "C. A person runs several miles. The ﬁrst and last miles are run at an 'easy' pace. Other than the ﬁrst and last miles, the other miles are at a faster pace.\n",
    "\n",
    "Write a function `run_time(miles, warm_pace, fast_pace)` to calculate the time the runner will take. The function accepts three input arguments: how many miles the runner travels (minimum value is 2), the warm-up and cool-down pace, the fast pace. The function will print the time in the format minutes:seconds, and will return a tuple of values: (minutes, seconds)\n",
    "\n",
    "Use the function to ﬁnd the time to run a total of 5 miles. The warm-up pace is 8:15 per mile. The speed pace is 7:12 per mile.\n",
    "\n",
    "Call the function using: `run_time(miles = 5, warm_pace = 495, fast_pace = 432)`"
   ]
  },
  {
   "cell_type": "code",
   "execution_count": 22,
   "metadata": {},
   "outputs": [],
   "source": [
    "def run_time(miles, warm_pace, fast_pace):\n",
    "    total_sec = fast_pace*(miles - 2) + 2*warm_pace\n",
    "    total_min = total_sec//60\n",
    "    remaining_sec = total_sec%60\n",
    "    run_time_tuple = (total_min,remaining_sec)\n",
    "    print(total_min,\":\",remaining_sec, sep = \"\")\n",
    "    return run_time_tuple"
   ]
  },
  {
   "cell_type": "code",
   "execution_count": 23,
   "metadata": {},
   "outputs": [
    {
     "name": "stdout",
     "output_type": "stream",
     "text": [
      "38:6\n"
     ]
    },
    {
     "data": {
      "text/plain": [
       "(38, 6)"
      ]
     },
     "execution_count": 23,
     "metadata": {},
     "output_type": "execute_result"
    }
   ],
   "source": [
    "run_time(miles = 5, warm_pace = 495, fast_pace = 432)"
   ]
  },
  {
   "cell_type": "markdown",
   "metadata": {},
   "source": [
    "Another important skill is to be able to read documentation.\n",
    "\n",
    "Read the documentation for the function str.split() at https://docs.python.org/3/library/stdtypes.html#str.split\n",
    "\n",
    "Adjust the function so that the call can be made with minutes and seconds:\n",
    "\n",
    "`run_time(miles = 5, warm_pace = \"8:15\", fast_pace = \"7:12\")`"
   ]
  },
  {
   "cell_type": "code",
   "execution_count": 24,
   "metadata": {},
   "outputs": [],
   "source": [
    "def run_time(miles, warm_pace, fast_pace):\n",
    "    warm_split = warm_pace.split(':') \n",
    "    warm_total = int(warm_split[0])*60 + int(warm_split[1])\n",
    "    fast_split = fast_pace.split(':')\n",
    "    fast_total = int(fast_split[0])*60 + int(fast_split[1])\n",
    "    total_sec = fast_total*(miles - 2) + 2*warm_total\n",
    "    total_min = total_sec//60\n",
    "    remaining_sec = total_sec%60\n",
    "    run_time_tuple = (total_min,remaining_sec)\n",
    "    print(total_min,\":\",remaining_sec, sep = \"\")\n",
    "    return run_time_tuple"
   ]
  },
  {
   "cell_type": "code",
   "execution_count": 25,
   "metadata": {},
   "outputs": [
    {
     "name": "stdout",
     "output_type": "stream",
     "text": [
      "38:6\n"
     ]
    },
    {
     "data": {
      "text/plain": [
       "(38, 6)"
      ]
     },
     "execution_count": 25,
     "metadata": {},
     "output_type": "execute_result"
    }
   ],
   "source": [
    "run_time(miles = 5, warm_pace = \"8:15\", fast_pace = \"7:12\")"
   ]
  },
  {
   "cell_type": "markdown",
   "metadata": {},
   "source": [
    "# Problem 5\n",
    "\n",
    "Use `import math` to gain access to the math library.\n",
    "\n",
    "Create a function `polar(real, imaginary)` that will return the polar coordinates of a complex number.\n",
    "\n",
    "The input arguments are the real and imaginary components of a complex number. The function will return a tuple of values: the value of the radius `r` and the angle `theta`. \n",
    "\n",
    "For a refresher, see: https://ptolemy.berkeley.edu/eecs20/sidebars/complex/polar.html\n",
    "\n",
    "Show the results for the following complex numbers:\n",
    "\n",
    "- 1 + i\n",
    "- -2 - 3i\n",
    "- 4 + 2i"
   ]
  },
  {
   "cell_type": "code",
   "execution_count": 39,
   "metadata": {},
   "outputs": [],
   "source": [
    "import math\n",
    "def polar(real, imaginary):\n",
    "    r = math.sqrt(real**2 + imaginary**2)\n",
    "    theta = math.atan(imaginary/real)\n",
    "    if (real < 0):\n",
    "        theta = theta - math.pi\n",
    "    polar_coords = (r, theta)\n",
    "    return polar_coords"
   ]
  },
  {
   "cell_type": "code",
   "execution_count": 27,
   "metadata": {},
   "outputs": [
    {
     "data": {
      "text/plain": [
       "(1.4142135623730951, 0.7853981633974483)"
      ]
     },
     "execution_count": 27,
     "metadata": {},
     "output_type": "execute_result"
    }
   ],
   "source": [
    "polar(1,1)"
   ]
  },
  {
   "cell_type": "code",
   "execution_count": 40,
   "metadata": {},
   "outputs": [
    {
     "data": {
      "text/plain": [
       "(3.605551275463989, -2.158798930342464)"
      ]
     },
     "execution_count": 40,
     "metadata": {},
     "output_type": "execute_result"
    }
   ],
   "source": [
    "polar(-2,-3)"
   ]
  },
  {
   "cell_type": "code",
   "execution_count": 29,
   "metadata": {},
   "outputs": [
    {
     "data": {
      "text/plain": [
       "(4.47213595499958, 0.46364760900080615)"
      ]
     },
     "execution_count": 29,
     "metadata": {},
     "output_type": "execute_result"
    }
   ],
   "source": [
    "polar(4,2)"
   ]
  },
  {
   "cell_type": "markdown",
   "metadata": {},
   "source": [
    "# Problem 6"
   ]
  },
  {
   "cell_type": "markdown",
   "metadata": {},
   "source": [
    "Define a function called `insert_into(listname, index, iterable)`. It will accept three arguments, a currently existing list, an index, and another list/tuple that will be inserted at the index position.\n",
    "\n",
    "Python's built-in function, `list.insert()` can only insert one object."
   ]
  },
  {
   "cell_type": "code",
   "execution_count": 30,
   "metadata": {},
   "outputs": [],
   "source": [
    "# write your code here\n",
    "def insert_into(listname, index, iterable):\n",
    "    x = 0\n",
    "    new_list = []\n",
    "    while x < (len(listname)):\n",
    "        if (x == index):\n",
    "            j = 0\n",
    "            while j < (len(iterable)):\n",
    "                new_list.append(iterable[j])\n",
    "                j = j + 1\n",
    "            new_list.append(listname[x])\n",
    "        else:\n",
    "            new_list.append(listname[x])\n",
    "        x = x + 1\n",
    "    return new_list\n",
    "\n",
    "l = [0,'a','b','c',4,5,6]\n",
    "i = ['hello', 'there']\n",
    "list.insert(l, 3, i)"
   ]
  },
  {
   "cell_type": "code",
   "execution_count": 31,
   "metadata": {},
   "outputs": [
    {
     "data": {
      "text/plain": [
       "[0, 'a', 'b', 'hello', 'there', 'c', 4, 5, 6]"
      ]
     },
     "execution_count": 31,
     "metadata": {},
     "output_type": "execute_result"
    }
   ],
   "source": [
    "# do not modify. We will check this result for grading\n",
    "l = [0,'a','b','c',4,5,6]\n",
    "i = ['hello', 'there']\n",
    "insert_into(l, 3, i)"
   ]
  },
  {
   "cell_type": "markdown",
   "metadata": {},
   "source": [
    "# Problem 7\n",
    "\n",
    "Define a function called `first_equals_last(listname)`\n",
    "\n",
    "It will accept a list as an argument. It will return `True` if the first and last elements are equal and the if the list has a length greater than 1. It will return False for all other cases."
   ]
  },
  {
   "cell_type": "code",
   "execution_count": 32,
   "metadata": {},
   "outputs": [],
   "source": [
    "# write your function here\n",
    "def first_equals_last(listname):\n",
    "    if (len(listname) < 1):\n",
    "        return False\n",
    "    if (listname[0] == listname[len(listname)-1]):\n",
    "        return True\n",
    "    else:\n",
    "        return False"
   ]
  },
  {
   "cell_type": "code",
   "execution_count": 33,
   "metadata": {},
   "outputs": [
    {
     "data": {
      "text/plain": [
       "False"
      ]
     },
     "execution_count": 33,
     "metadata": {},
     "output_type": "execute_result"
    }
   ],
   "source": [
    "# do not modify. We will check this result for grading\n",
    "a = [1,2,3]\n",
    "first_equals_last(a)"
   ]
  },
  {
   "cell_type": "code",
   "execution_count": 34,
   "metadata": {},
   "outputs": [
    {
     "data": {
      "text/plain": [
       "True"
      ]
     },
     "execution_count": 34,
     "metadata": {},
     "output_type": "execute_result"
    }
   ],
   "source": [
    "# do not modify. We will check this result for grading\n",
    "b = ['hello','goodbye','hello']\n",
    "first_equals_last(b)"
   ]
  },
  {
   "cell_type": "code",
   "execution_count": 35,
   "metadata": {},
   "outputs": [
    {
     "data": {
      "text/plain": [
       "False"
      ]
     },
     "execution_count": 35,
     "metadata": {},
     "output_type": "execute_result"
    }
   ],
   "source": [
    "# do not modify. We will check this result for grading\n",
    "c  = [1,2,3,'1']\n",
    "first_equals_last(c)"
   ]
  },
  {
   "cell_type": "code",
   "execution_count": 36,
   "metadata": {},
   "outputs": [
    {
     "data": {
      "text/plain": [
       "True"
      ]
     },
     "execution_count": 36,
     "metadata": {},
     "output_type": "execute_result"
    }
   ],
   "source": [
    "# do not modify. We will check this result for grading\n",
    "d = [[1,2],[3,2],[1,2]]\n",
    "first_equals_last(d)"
   ]
  }
 ],
 "metadata": {
  "kernelspec": {
   "display_name": "Python 3 (ipykernel)",
   "language": "python",
   "name": "python3"
  },
  "language_info": {
   "codemirror_mode": {
    "name": "ipython",
    "version": 3
   },
   "file_extension": ".py",
   "mimetype": "text/x-python",
   "name": "python",
   "nbconvert_exporter": "python",
   "pygments_lexer": "ipython3",
   "version": "3.9.7"
  }
 },
 "nbformat": 4,
 "nbformat_minor": 4
}
